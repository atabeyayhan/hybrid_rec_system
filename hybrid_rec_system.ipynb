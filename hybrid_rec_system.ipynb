{
  "nbformat": 4,
  "nbformat_minor": 0,
  "metadata": {
    "colab": {
      "provenance": []
    },
    "kernelspec": {
      "name": "python3",
      "display_name": "Python 3"
    },
    "language_info": {
      "name": "python"
    }
  },
  "cells": [
    {
      "cell_type": "code",
      "execution_count": null,
      "metadata": {
        "id": "VtvLYZAktsvz"
      },
      "outputs": [],
      "source": [
        "import pandas as pd\n",
        "import numpy as np        \n",
        "pd.set_option('display.max_columns', None)\n",
        "pd.set_option('display.width', 500)\n",
        "pd.set_option('display.expand_frame_repr', False)"
      ]
    },
    {
      "cell_type": "code",
      "source": [
        "movie_df = pd.read_csv(\"movie.csv\")\n",
        "rating_df = pd.read_csv(\"rating.csv\")"
      ],
      "metadata": {
        "id": "e67PX43mvyym"
      },
      "execution_count": null,
      "outputs": []
    },
    {
      "cell_type": "code",
      "source": [
        "def check_df(dataframe, head=5):\n",
        "    print(\"##################### Shape #####################\")\n",
        "    print(dataframe.shape)\n",
        "    print(\"##################### Types #####################\")\n",
        "    print(dataframe.dtypes)\n",
        "    print(\"##################### Head #####################\")\n",
        "    print(dataframe.head(head))\n",
        "    print(\"##################### Tail #####################\")\n",
        "    print(dataframe.tail(head))\n",
        "    print(\"##################### NA #####################\")\n",
        "    print(dataframe.isnull().sum())\n",
        "    print(\"##################### Quantiles #####################\")\n",
        "    print(dataframe.describe([0, 0.05, 0.50, 0.95, 0.99, 1]).T)\n",
        "\n",
        "check_df(movie_df)"
      ],
      "metadata": {
        "colab": {
          "base_uri": "https://localhost:8080/"
        },
        "id": "uCJruREyvy1G",
        "outputId": "98df6b90-45f0-4b01-9ec0-08698721d602"
      },
      "execution_count": null,
      "outputs": [
        {
          "output_type": "stream",
          "name": "stdout",
          "text": [
            "##################### Shape #####################\n",
            "(27278, 3)\n",
            "##################### Types #####################\n",
            "movieId     int64\n",
            "title      object\n",
            "genres     object\n",
            "dtype: object\n",
            "##################### Head #####################\n",
            "   movieId                               title                                       genres\n",
            "0        1                    Toy Story (1995)  Adventure|Animation|Children|Comedy|Fantasy\n",
            "1        2                      Jumanji (1995)                   Adventure|Children|Fantasy\n",
            "2        3             Grumpier Old Men (1995)                               Comedy|Romance\n",
            "3        4            Waiting to Exhale (1995)                         Comedy|Drama|Romance\n",
            "4        5  Father of the Bride Part II (1995)                                       Comedy\n",
            "##################### Tail #####################\n",
            "       movieId                          title                    genres\n",
            "27273   131254   Kein Bund für's Leben (2007)                    Comedy\n",
            "27274   131256  Feuer, Eis & Dosenbier (2002)                    Comedy\n",
            "27275   131258             The Pirates (2014)                 Adventure\n",
            "27276   131260            Rentun Ruusu (2001)        (no genres listed)\n",
            "27277   131262               Innocence (2014)  Adventure|Fantasy|Horror\n",
            "##################### NA #####################\n",
            "movieId    0\n",
            "title      0\n",
            "genres     0\n",
            "dtype: int64\n",
            "##################### Quantiles #####################\n",
            "           count         mean           std  min   0%       5%      50%       95%        99%      100%       max\n",
            "movieId  27278.0  59855.48057  44429.314697  1.0  1.0  1394.85  68068.0  123221.6  129820.46  131262.0  131262.0\n"
          ]
        }
      ]
    },
    {
      "cell_type": "code",
      "source": [
        "check_df(rating_df)"
      ],
      "metadata": {
        "colab": {
          "base_uri": "https://localhost:8080/"
        },
        "id": "bJItAJECvy3u",
        "outputId": "3f6da206-f90a-450e-db1b-7cab484e6f2b"
      },
      "execution_count": null,
      "outputs": [
        {
          "output_type": "stream",
          "name": "stdout",
          "text": [
            "##################### Shape #####################\n",
            "(319682, 4)\n",
            "##################### Types #####################\n",
            "userId         int64\n",
            "movieId        int64\n",
            "rating       float64\n",
            "timestamp     object\n",
            "dtype: object\n",
            "##################### Head #####################\n",
            "   userId  movieId  rating            timestamp\n",
            "0       1        2     3.5  2005-04-02 23:53:47\n",
            "1       1       29     3.5  2005-04-02 23:31:16\n",
            "2       1       32     3.5  2005-04-02 23:33:39\n",
            "3       1       47     3.5  2005-04-02 23:32:07\n",
            "4       1       50     3.5  2005-04-02 23:29:40\n",
            "##################### Tail #####################\n",
            "        userId  movieId  rating            timestamp\n",
            "319677    2184     1732     4.0  2004-07-25 04:42:16\n",
            "319678    2184     1747     4.0  2004-07-25 04:45:18\n",
            "319679    2184     1784     4.0  2004-07-25 04:33:15\n",
            "319680    2184     1805     1.5  2004-07-25 16:37:52\n",
            "319681    2184     1889     4.5                  NaN\n",
            "##################### NA #####################\n",
            "userId       0\n",
            "movieId      0\n",
            "rating       0\n",
            "timestamp    1\n",
            "dtype: int64\n",
            "##################### Quantiles #####################\n",
            "            count         mean           std  min   0%     5%     50%      95%      99%      100%       max\n",
            "userId   319682.0  1100.021596    626.842853  1.0  1.0  131.0  1072.5   2076.0   2161.0    2184.0    2184.0\n",
            "movieId  319682.0  8266.852416  18517.089878  1.0  1.0  145.0  2136.0  55442.0  91128.0  130219.0  130219.0\n",
            "rating   319682.0     3.510198      1.063611  0.5  0.5    1.0     3.5      5.0      5.0       5.0       5.0\n"
          ]
        }
      ]
    },
    {
      "cell_type": "code",
      "source": [
        "df=rating_df.merge(movie_df, how=\"left\", on=\"movieId\")"
      ],
      "metadata": {
        "id": "DLj0ihg-Fk4S"
      },
      "execution_count": null,
      "outputs": []
    },
    {
      "cell_type": "code",
      "source": [
        "df.shape"
      ],
      "metadata": {
        "colab": {
          "base_uri": "https://localhost:8080/"
        },
        "id": "T-6hXDXuFvK1",
        "outputId": "48e7a4b4-6971-4576-a387-4804c3c6029b"
      },
      "execution_count": null,
      "outputs": [
        {
          "output_type": "execute_result",
          "data": {
            "text/plain": [
              "(319682, 6)"
            ]
          },
          "metadata": {},
          "execution_count": 6
        }
      ]
    },
    {
      "cell_type": "code",
      "source": [
        "def create_user_movie_df():\n",
        "    import pandas as pd\n",
        "    movie = pd.read_csv('movie.csv')\n",
        "    rating = pd.read_csv('rating.csv')\n",
        "    df = rating_df.merge(movie_df, how=\"left\", on=\"movieId\")\n",
        "    comment_counts = pd.DataFrame(df[\"title\"].value_counts())\n",
        "    rare_movies = comment_counts[comment_counts[\"title\"] <= 100].index\n",
        "    common_movies = df[~df[\"title\"].isin(rare_movies)]\n",
        "    user_movie_df = common_movies.pivot_table(index=[\"userId\"], columns=[\"title\"], values=\"rating\")\n",
        "    return user_movie_df"
      ],
      "metadata": {
        "id": "wnSMmu4wB6GT"
      },
      "execution_count": null,
      "outputs": []
    },
    {
      "cell_type": "code",
      "source": [
        "user_movie_df = create_user_movie_df()"
      ],
      "metadata": {
        "id": "WZLdAnlIDHtV"
      },
      "execution_count": null,
      "outputs": []
    },
    {
      "cell_type": "code",
      "source": [
        "int(pd.Series(user_movie_df.index).sample(1).values)"
      ],
      "metadata": {
        "colab": {
          "base_uri": "https://localhost:8080/"
        },
        "id": "52ZK5b17F6XI",
        "outputId": "2e35e020-3877-4d9b-e59e-25965f807fb2"
      },
      "execution_count": null,
      "outputs": [
        {
          "output_type": "execute_result",
          "data": {
            "text/plain": [
              "321"
            ]
          },
          "metadata": {},
          "execution_count": 9
        }
      ]
    },
    {
      "cell_type": "code",
      "source": [
        "random_user_df = user_movie_df[user_movie_df.index == 321]"
      ],
      "metadata": {
        "id": "7OJ963teG7A0"
      },
      "execution_count": null,
      "outputs": []
    },
    {
      "cell_type": "code",
      "source": [
        "movies_watched = random_user_df.columns[random_user_df.notna().any()].tolist()\n",
        "movies_watched"
      ],
      "metadata": {
        "colab": {
          "base_uri": "https://localhost:8080/"
        },
        "id": "UCB9AfdEG7EX",
        "outputId": "9178827f-d808-49d7-b205-bb08efa34f17"
      },
      "execution_count": null,
      "outputs": [
        {
          "output_type": "execute_result",
          "data": {
            "text/plain": [
              "['American Beauty (1999)',\n",
              " 'American History X (1998)',\n",
              " 'Apocalypse Now (1979)',\n",
              " 'Braveheart (1995)',\n",
              " 'City of God (Cidade de Deus) (2002)',\n",
              " 'Desperado (1995)',\n",
              " 'Die Hard 2 (1990)',\n",
              " 'Donnie Darko (2001)',\n",
              " 'Eternal Sunshine of the Spotless Mind (2004)',\n",
              " 'Fight Club (1999)',\n",
              " 'Game, The (1997)',\n",
              " 'Goodfellas (1990)',\n",
              " 'Groundhog Day (1993)',\n",
              " 'Halloween (1978)',\n",
              " 'Jungle Book, The (1967)',\n",
              " 'L.A. Story (1991)',\n",
              " 'Little Miss Sunshine (2006)',\n",
              " 'Memento (2000)',\n",
              " 'Men in Black (a.k.a. MIB) (1997)',\n",
              " 'Outbreak (1995)',\n",
              " 'Pulp Fiction (1994)',\n",
              " 'Requiem for a Dream (2000)',\n",
              " 'Reservoir Dogs (1992)',\n",
              " 'Risky Business (1983)',\n",
              " 'Scarface (1983)',\n",
              " 'Silence of the Lambs, The (1991)',\n",
              " 'Star Wars: Episode I - The Phantom Menace (1999)',\n",
              " 'Star Wars: Episode IV - A New Hope (1977)',\n",
              " 'Taxi Driver (1976)',\n",
              " 'Terminator, The (1984)',\n",
              " 'Untouchables, The (1987)',\n",
              " 'Usual Suspects, The (1995)']"
            ]
          },
          "metadata": {},
          "execution_count": 25
        }
      ]
    },
    {
      "cell_type": "code",
      "source": [
        "movies_watched_df = user_movie_df[movies_watched]"
      ],
      "metadata": {
        "id": "o1E32VO9H1I3"
      },
      "execution_count": null,
      "outputs": []
    },
    {
      "cell_type": "code",
      "source": [
        "user_movie_count = movies_watched_df.T.notnull().sum()\n",
        "user_movie_count = user_movie_count.reset_index()"
      ],
      "metadata": {
        "id": "mFc-M82fH1MV"
      },
      "execution_count": null,
      "outputs": []
    },
    {
      "cell_type": "code",
      "source": [
        "user_movie_count.columns = [\"userId\", \"movie_count\"]\n",
        "perc = len(movies_watched) * 60 / 100\n",
        "users_same_movies = user_movie_count[user_movie_count[\"movie_count\"] > perc][\"userId\"]"
      ],
      "metadata": {
        "id": "STRmD_4JIhuJ"
      },
      "execution_count": null,
      "outputs": []
    },
    {
      "cell_type": "code",
      "source": [
        "users_same_movies"
      ],
      "metadata": {
        "colab": {
          "base_uri": "https://localhost:8080/"
        },
        "id": "rDZUSBrSIhwY",
        "outputId": "8770cfc1-92b6-401f-b712-e2b51dc5ecf1"
      },
      "execution_count": null,
      "outputs": [
        {
          "output_type": "execute_result",
          "data": {
            "text/plain": [
              "23        24\n",
              "53        54\n",
              "57        58\n",
              "90        91\n",
              "115      116\n",
              "        ... \n",
              "2105    2107\n",
              "2111    2113\n",
              "2149    2151\n",
              "2156    2158\n",
              "2169    2171\n",
              "Name: userId, Length: 126, dtype: int64"
            ]
          },
          "metadata": {},
          "execution_count": 29
        }
      ]
    },
    {
      "cell_type": "code",
      "source": [
        "final_df = pd.concat([movies_watched_df[movies_watched_df.index.isin(users_same_movies)],\n",
        "                          random_user_df[movies_watched]])"
      ],
      "metadata": {
        "id": "vG9bvWKlIhzB"
      },
      "execution_count": null,
      "outputs": []
    },
    {
      "cell_type": "code",
      "source": [
        "corr_df = final_df.T.corr().unstack().sort_values().drop_duplicates()\n",
        "corr_df = pd.DataFrame(corr_df, columns=[\"corr\"])\n",
        "corr_df.index.names = ['user_id_1', 'user_id_2']\n",
        "corr_df = corr_df.reset_index()"
      ],
      "metadata": {
        "id": "XNFWV1i9Ih2V"
      },
      "execution_count": null,
      "outputs": []
    },
    {
      "cell_type": "code",
      "source": [
        "top_users = corr_df[(corr_df[\"user_id_1\"] == 321) & (corr_df[\"corr\"] >= 0.65)][\n",
        "        [\"user_id_2\", \"corr\"]].reset_index(drop=True)\n",
        "top_users = top_users.sort_values(by='corr', ascending=False)\n",
        "top_users.rename(columns={\"user_id_2\": \"userId\"}, inplace=True)"
      ],
      "metadata": {
        "id": "EdrSmGegKAxG"
      },
      "execution_count": null,
      "outputs": []
    },
    {
      "cell_type": "code",
      "source": [
        "top_users_ratings = top_users.merge(rating_df[[\"userId\", \"movieId\", \"rating\"]], how='inner')"
      ],
      "metadata": {
        "id": "qtyDO1lnKA0c"
      },
      "execution_count": null,
      "outputs": []
    },
    {
      "cell_type": "code",
      "source": [
        "top_users_ratings['weighted_rating'] = top_users_ratings['corr'] * top_users_ratings['rating']"
      ],
      "metadata": {
        "id": "TDS6yst4KT49"
      },
      "execution_count": null,
      "outputs": []
    },
    {
      "cell_type": "code",
      "source": [
        "recommendation_df = top_users_ratings.groupby('movieId').agg({\"weighted_rating\": \"mean\"})\n",
        "recommendation_df = recommendation_df.reset_index()"
      ],
      "metadata": {
        "id": "ptKvaDU0KT7Z"
      },
      "execution_count": null,
      "outputs": []
    },
    {
      "cell_type": "code",
      "source": [
        "movies_to_rec = recommendation_df.loc[recommendation_df[\"weighted_rating\"] >=3.5].sort_values(\"weighted_rating\", ascending=False)"
      ],
      "metadata": {
        "id": "imsyyrD7KT9k"
      },
      "execution_count": null,
      "outputs": []
    },
    {
      "cell_type": "code",
      "source": [
        "movies_to_rec.merge(movie_df[[\"movieId\", \"title\"]]).head()"
      ],
      "metadata": {
        "colab": {
          "base_uri": "https://localhost:8080/",
          "height": 206
        },
        "id": "CKVLk-1zLb3t",
        "outputId": "c097259c-1c43-412b-8f8a-0d11193c5dd9"
      },
      "execution_count": null,
      "outputs": [
        {
          "output_type": "execute_result",
          "data": {
            "text/plain": [
              "   movieId  weighted_rating                                              title\n",
              "0     1208              5.0                              Apocalypse Now (1979)\n",
              "1     1209              5.0  Once Upon a Time in the West (C'era una volta ...\n",
              "2      111              5.0                                 Taxi Driver (1976)\n",
              "3     2078              4.5                            Jungle Book, The (1967)\n",
              "4     2959              4.5                                  Fight Club (1999)"
            ],
            "text/html": [
              "\n",
              "  <div id=\"df-bdde14d7-a888-4c30-88d6-68e4ae3a42b7\">\n",
              "    <div class=\"colab-df-container\">\n",
              "      <div>\n",
              "<style scoped>\n",
              "    .dataframe tbody tr th:only-of-type {\n",
              "        vertical-align: middle;\n",
              "    }\n",
              "\n",
              "    .dataframe tbody tr th {\n",
              "        vertical-align: top;\n",
              "    }\n",
              "\n",
              "    .dataframe thead th {\n",
              "        text-align: right;\n",
              "    }\n",
              "</style>\n",
              "<table border=\"1\" class=\"dataframe\">\n",
              "  <thead>\n",
              "    <tr style=\"text-align: right;\">\n",
              "      <th></th>\n",
              "      <th>movieId</th>\n",
              "      <th>weighted_rating</th>\n",
              "      <th>title</th>\n",
              "    </tr>\n",
              "  </thead>\n",
              "  <tbody>\n",
              "    <tr>\n",
              "      <th>0</th>\n",
              "      <td>1208</td>\n",
              "      <td>5.0</td>\n",
              "      <td>Apocalypse Now (1979)</td>\n",
              "    </tr>\n",
              "    <tr>\n",
              "      <th>1</th>\n",
              "      <td>1209</td>\n",
              "      <td>5.0</td>\n",
              "      <td>Once Upon a Time in the West (C'era una volta ...</td>\n",
              "    </tr>\n",
              "    <tr>\n",
              "      <th>2</th>\n",
              "      <td>111</td>\n",
              "      <td>5.0</td>\n",
              "      <td>Taxi Driver (1976)</td>\n",
              "    </tr>\n",
              "    <tr>\n",
              "      <th>3</th>\n",
              "      <td>2078</td>\n",
              "      <td>4.5</td>\n",
              "      <td>Jungle Book, The (1967)</td>\n",
              "    </tr>\n",
              "    <tr>\n",
              "      <th>4</th>\n",
              "      <td>2959</td>\n",
              "      <td>4.5</td>\n",
              "      <td>Fight Club (1999)</td>\n",
              "    </tr>\n",
              "  </tbody>\n",
              "</table>\n",
              "</div>\n",
              "      <button class=\"colab-df-convert\" onclick=\"convertToInteractive('df-bdde14d7-a888-4c30-88d6-68e4ae3a42b7')\"\n",
              "              title=\"Convert this dataframe to an interactive table.\"\n",
              "              style=\"display:none;\">\n",
              "        \n",
              "  <svg xmlns=\"http://www.w3.org/2000/svg\" height=\"24px\"viewBox=\"0 0 24 24\"\n",
              "       width=\"24px\">\n",
              "    <path d=\"M0 0h24v24H0V0z\" fill=\"none\"/>\n",
              "    <path d=\"M18.56 5.44l.94 2.06.94-2.06 2.06-.94-2.06-.94-.94-2.06-.94 2.06-2.06.94zm-11 1L8.5 8.5l.94-2.06 2.06-.94-2.06-.94L8.5 2.5l-.94 2.06-2.06.94zm10 10l.94 2.06.94-2.06 2.06-.94-2.06-.94-.94-2.06-.94 2.06-2.06.94z\"/><path d=\"M17.41 7.96l-1.37-1.37c-.4-.4-.92-.59-1.43-.59-.52 0-1.04.2-1.43.59L10.3 9.45l-7.72 7.72c-.78.78-.78 2.05 0 2.83L4 21.41c.39.39.9.59 1.41.59.51 0 1.02-.2 1.41-.59l7.78-7.78 2.81-2.81c.8-.78.8-2.07 0-2.86zM5.41 20L4 18.59l7.72-7.72 1.47 1.35L5.41 20z\"/>\n",
              "  </svg>\n",
              "      </button>\n",
              "      \n",
              "  <style>\n",
              "    .colab-df-container {\n",
              "      display:flex;\n",
              "      flex-wrap:wrap;\n",
              "      gap: 12px;\n",
              "    }\n",
              "\n",
              "    .colab-df-convert {\n",
              "      background-color: #E8F0FE;\n",
              "      border: none;\n",
              "      border-radius: 50%;\n",
              "      cursor: pointer;\n",
              "      display: none;\n",
              "      fill: #1967D2;\n",
              "      height: 32px;\n",
              "      padding: 0 0 0 0;\n",
              "      width: 32px;\n",
              "    }\n",
              "\n",
              "    .colab-df-convert:hover {\n",
              "      background-color: #E2EBFA;\n",
              "      box-shadow: 0px 1px 2px rgba(60, 64, 67, 0.3), 0px 1px 3px 1px rgba(60, 64, 67, 0.15);\n",
              "      fill: #174EA6;\n",
              "    }\n",
              "\n",
              "    [theme=dark] .colab-df-convert {\n",
              "      background-color: #3B4455;\n",
              "      fill: #D2E3FC;\n",
              "    }\n",
              "\n",
              "    [theme=dark] .colab-df-convert:hover {\n",
              "      background-color: #434B5C;\n",
              "      box-shadow: 0px 1px 3px 1px rgba(0, 0, 0, 0.15);\n",
              "      filter: drop-shadow(0px 1px 2px rgba(0, 0, 0, 0.3));\n",
              "      fill: #FFFFFF;\n",
              "    }\n",
              "  </style>\n",
              "\n",
              "      <script>\n",
              "        const buttonEl =\n",
              "          document.querySelector('#df-bdde14d7-a888-4c30-88d6-68e4ae3a42b7 button.colab-df-convert');\n",
              "        buttonEl.style.display =\n",
              "          google.colab.kernel.accessAllowed ? 'block' : 'none';\n",
              "\n",
              "        async function convertToInteractive(key) {\n",
              "          const element = document.querySelector('#df-bdde14d7-a888-4c30-88d6-68e4ae3a42b7');\n",
              "          const dataTable =\n",
              "            await google.colab.kernel.invokeFunction('convertToInteractive',\n",
              "                                                     [key], {});\n",
              "          if (!dataTable) return;\n",
              "\n",
              "          const docLinkHtml = 'Like what you see? Visit the ' +\n",
              "            '<a target=\"_blank\" href=https://colab.research.google.com/notebooks/data_table.ipynb>data table notebook</a>'\n",
              "            + ' to learn more about interactive tables.';\n",
              "          element.innerHTML = '';\n",
              "          dataTable['output_type'] = 'display_data';\n",
              "          await google.colab.output.renderOutput(dataTable, element);\n",
              "          const docLink = document.createElement('div');\n",
              "          docLink.innerHTML = docLinkHtml;\n",
              "          element.appendChild(docLink);\n",
              "        }\n",
              "      </script>\n",
              "    </div>\n",
              "  </div>\n",
              "  "
            ]
          },
          "metadata": {},
          "execution_count": 37
        }
      ]
    }
  ]
}